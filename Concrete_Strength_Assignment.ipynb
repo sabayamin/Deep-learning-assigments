{
  "nbformat": 4,
  "nbformat_minor": 0,
  "metadata": {
    "kernelspec": {
      "display_name": "Python 3",
      "language": "python",
      "name": "python3"
    },
    "language_info": {
      "codemirror_mode": {
        "name": "ipython",
        "version": 3
      },
      "file_extension": ".py",
      "mimetype": "text/x-python",
      "name": "python",
      "nbconvert_exporter": "python",
      "pygments_lexer": "ipython3",
      "version": "3.8.5"
    },
    "colab": {
      "name": "Concrete Strength Assignment.ipynb",
      "provenance": [],
      "toc_visible": true,
      "include_colab_link": true
    }
  },
  "cells": [
    {
      "cell_type": "markdown",
      "metadata": {
        "id": "view-in-github",
        "colab_type": "text"
      },
      "source": [
        "<a href=\"https://colab.research.google.com/github/sabayamin/Deep-learning-assigments/blob/main/Concrete_Strength_Assignment.ipynb\" target=\"_parent\"><img src=\"https://colab.research.google.com/assets/colab-badge.svg\" alt=\"Open In Colab\"/></a>"
      ]
    },
    {
      "cell_type": "markdown",
      "metadata": {
        "id": "dvC2fwvy4JEK"
      },
      "source": [
        "# Assignment: Compresive Strength Concrete Problem\n",
        "\n",
        "\n",
        "### Abstract: \n",
        "\n",
        "Concrete is the most important material in civil engineering. The concrete compressive strength (concrete strength to bear the load) is a highly nonlinear function of age and ingredients.  <br><br>\n",
        "\n",
        "<table border=\"1\"  cellpadding=\"6\" bordercolor=\"red\">\n",
        "\t<tbody>\n",
        "        <tr>\n",
        "\t\t<td bgcolor=\"#DDEEFF\"><p class=\"normal\"><b>Data Set Characteristics:&nbsp;&nbsp;</b></p></td>\n",
        "\t\t<td><p class=\"normal\">Multivariate</p></td>\n",
        "\t\t<td bgcolor=\"#DDEEFF\"><p class=\"normal\"><b>Number of Instances:</b></p></td>\n",
        "\t\t<td><p class=\"normal\">1030</p></td>\n",
        "\t\t<td bgcolor=\"#DDEEFF\"><p class=\"normal\"><b>Area:</b></p></td>\n",
        "\t\t<td><p class=\"normal\">Physical</p></td>\n",
        "        </tr>\n",
        "     </tbody>\n",
        "    </table>\n",
        "<table border=\"1\" cellpadding=\"6\">\n",
        "    <tbody>\n",
        "        <tr>\n",
        "            <td bgcolor=\"#DDEEFF\"><p class=\"normal\"><b>Attribute Characteristics:</b></p></td>\n",
        "            <td><p class=\"normal\">Real</p></td>\n",
        "            <td bgcolor=\"#DDEEFF\"><p class=\"normal\"><b>Number of Attributes:</b></p></td>\n",
        "            <td><p class=\"normal\">9</p></td>\n",
        "            <td bgcolor=\"#DDEEFF\"><p class=\"normal\"><b>Date Donated</b></p></td>\n",
        "            <td><p class=\"normal\">2007-08-03</p></td>\n",
        "        </tr>\n",
        "     </tbody>\n",
        "    </table>\n",
        "<table border=\"1\" cellpadding=\"6\">\t\n",
        "    <tbody>\n",
        "    <tr>\n",
        "\t\t<td bgcolor=\"#DDEEFF\"><p class=\"normal\"><b>Associated Tasks:</b></p></td>\n",
        "\t\t<td><p class=\"normal\">Regression</p></td>\n",
        "\t\t<td bgcolor=\"#DDEEFF\"><p class=\"normal\"><b>Missing Values?</b></p></td>\n",
        "\t\t<td><p class=\"normal\">N/A</p></td>\n",
        "\t\t<td bgcolor=\"#DDEEFF\"><p class=\"normal\"><b>Number of Web Hits:</b></p></td>\n",
        "\t\t<td><p class=\"normal\">231464</p></td>\n",
        "\t</tr>\n",
        "    </tbody>\n",
        "    </table>"
      ]
    },
    {
      "cell_type": "markdown",
      "metadata": {
        "id": "x0liSqm54JEX"
      },
      "source": [
        "###  Description:\n",
        "| Features Name | Data Type | Measurement | Description |\n",
        "| -- | -- | -- | -- |\n",
        "Cement (component 1) | quantitative | kg in a m3 mixture | Input Variable\n",
        "Blast Furnace Slag (component 2) | quantitative | kg in a m3 mixture | Input Variable\n",
        "Fly Ash (component 3) | quantitative | kg in a m3 mixture | Input Variable\n",
        "Water (component 4) | quantitative | kg in a m3 mixture | Input Variable\n",
        "Superplasticizer (component 5) | quantitative | kg in a m3 mixture | Input Variable\n",
        "Coarse Aggregate (component 6) | quantitative | kg in a m3 mixture | Input Variable\n",
        "Fine Aggregate (component 7) | quantitative | kg in a m3 mixture | Input Variable\n",
        "Age | quantitative | Day (1~365) | Input Variable\n",
        "Concrete compressive strength | quantitative | MPa | Output Variable\n",
        "\n",
        "### WORKFLOW :\n",
        "- Load Data\n",
        "- Check Missing Values ( If Exist ; Fill each record with mean of its feature )\n",
        "- Standardized the Input Variables. **Hint**: Centeralized the data\n",
        "- Split into 50% Training(Samples,Labels) , 30% Test(Samples,Labels) and 20% Validation Data(Samples,Labels).\n",
        "- Model : input Layer (No. of features ), 3 hidden layers including 10,8,6 unit & Output Layer with activation function relu/tanh (check by experiment).\n",
        "- Compilation Step (Note : Its a Regression problem , select loss , metrics according to it)\n",
        "- Train the Model with Epochs (100) and validate it\n",
        "- If the model gets overfit tune your model by changing the units , No. of layers , activation function , epochs , add dropout layer or add Regularizer according to the need .\n",
        "- Evaluation Step\n",
        "- Prediction\n"
      ]
    },
    {
      "cell_type": "markdown",
      "metadata": {
        "id": "d0RP0FBr4JEZ"
      },
      "source": [
        "# Load Data:\n",
        "[Click Here to Download DataSet](https://github.com/ramsha275/ML_Datasets/blob/main/compresive_strength_concrete.csv)"
      ]
    },
    {
      "cell_type": "code",
      "metadata": {
        "id": "sdP86EM44JEa"
      },
      "source": [
        "import tensorflow as tf\n",
        "import numpy as np\n",
        "import pandas as pd\n",
        "from tensorflow.keras import models, layers , optimizers"
      ],
      "execution_count": 1,
      "outputs": []
    },
    {
      "cell_type": "code",
      "metadata": {
        "colab": {
          "base_uri": "https://localhost:8080/"
        },
        "id": "nrfr2bO05fGc",
        "outputId": "79a32e1e-13dd-47a4-9157-d4441540ebe0"
      },
      "source": [
        "from google.colab import drive\n",
        "drive.mount(\"/content/gdrive\")"
      ],
      "execution_count": 2,
      "outputs": [
        {
          "output_type": "stream",
          "text": [
            "Drive already mounted at /content/gdrive; to attempt to forcibly remount, call drive.mount(\"/content/gdrive\", force_remount=True).\n"
          ],
          "name": "stdout"
        }
      ]
    },
    {
      "cell_type": "code",
      "metadata": {
        "id": "HM8NrxbQ5z-K"
      },
      "source": [
        "df= pd.read_csv(\"/content/gdrive/MyDrive/compresive_strength_concrete.csv\")"
      ],
      "execution_count": 4,
      "outputs": []
    },
    {
      "cell_type": "code",
      "metadata": {
        "colab": {
          "base_uri": "https://localhost:8080/",
          "height": 326
        },
        "id": "TyYzvC_V7OLV",
        "outputId": "593c7e5c-8d3d-478e-8f3b-8dfdf2b1e9ec"
      },
      "source": [
        "df.head()"
      ],
      "execution_count": 5,
      "outputs": [
        {
          "output_type": "execute_result",
          "data": {
            "text/html": [
              "<div>\n",
              "<style scoped>\n",
              "    .dataframe tbody tr th:only-of-type {\n",
              "        vertical-align: middle;\n",
              "    }\n",
              "\n",
              "    .dataframe tbody tr th {\n",
              "        vertical-align: top;\n",
              "    }\n",
              "\n",
              "    .dataframe thead th {\n",
              "        text-align: right;\n",
              "    }\n",
              "</style>\n",
              "<table border=\"1\" class=\"dataframe\">\n",
              "  <thead>\n",
              "    <tr style=\"text-align: right;\">\n",
              "      <th></th>\n",
              "      <th>Cement (component 1)(kg in a m^3 mixture)</th>\n",
              "      <th>Blast Furnace Slag (component 2)(kg in a m^3 mixture)</th>\n",
              "      <th>Fly Ash (component 3)(kg in a m^3 mixture)</th>\n",
              "      <th>Water  (component 4)(kg in a m^3 mixture)</th>\n",
              "      <th>Superplasticizer (component 5)(kg in a m^3 mixture)</th>\n",
              "      <th>Coarse Aggregate  (component 6)(kg in a m^3 mixture)</th>\n",
              "      <th>Fine Aggregate (component 7)(kg in a m^3 mixture)</th>\n",
              "      <th>Age (day)</th>\n",
              "      <th>Concrete compressive strength(MPa, megapascals)</th>\n",
              "    </tr>\n",
              "  </thead>\n",
              "  <tbody>\n",
              "    <tr>\n",
              "      <th>0</th>\n",
              "      <td>540.0</td>\n",
              "      <td>0.0</td>\n",
              "      <td>0.0</td>\n",
              "      <td>162.0</td>\n",
              "      <td>2.5</td>\n",
              "      <td>1040.0</td>\n",
              "      <td>676.0</td>\n",
              "      <td>28</td>\n",
              "      <td>79.99</td>\n",
              "    </tr>\n",
              "    <tr>\n",
              "      <th>1</th>\n",
              "      <td>540.0</td>\n",
              "      <td>0.0</td>\n",
              "      <td>0.0</td>\n",
              "      <td>162.0</td>\n",
              "      <td>2.5</td>\n",
              "      <td>1055.0</td>\n",
              "      <td>676.0</td>\n",
              "      <td>28</td>\n",
              "      <td>61.89</td>\n",
              "    </tr>\n",
              "    <tr>\n",
              "      <th>2</th>\n",
              "      <td>332.5</td>\n",
              "      <td>142.5</td>\n",
              "      <td>0.0</td>\n",
              "      <td>228.0</td>\n",
              "      <td>0.0</td>\n",
              "      <td>932.0</td>\n",
              "      <td>594.0</td>\n",
              "      <td>270</td>\n",
              "      <td>40.27</td>\n",
              "    </tr>\n",
              "    <tr>\n",
              "      <th>3</th>\n",
              "      <td>332.5</td>\n",
              "      <td>142.5</td>\n",
              "      <td>0.0</td>\n",
              "      <td>228.0</td>\n",
              "      <td>0.0</td>\n",
              "      <td>932.0</td>\n",
              "      <td>594.0</td>\n",
              "      <td>365</td>\n",
              "      <td>41.05</td>\n",
              "    </tr>\n",
              "    <tr>\n",
              "      <th>4</th>\n",
              "      <td>198.6</td>\n",
              "      <td>132.4</td>\n",
              "      <td>0.0</td>\n",
              "      <td>192.0</td>\n",
              "      <td>0.0</td>\n",
              "      <td>978.4</td>\n",
              "      <td>825.5</td>\n",
              "      <td>360</td>\n",
              "      <td>44.30</td>\n",
              "    </tr>\n",
              "  </tbody>\n",
              "</table>\n",
              "</div>"
            ],
            "text/plain": [
              "   Cement (component 1)(kg in a m^3 mixture)  ...  Concrete compressive strength(MPa, megapascals) \n",
              "0                                      540.0  ...                                             79.99\n",
              "1                                      540.0  ...                                             61.89\n",
              "2                                      332.5  ...                                             40.27\n",
              "3                                      332.5  ...                                             41.05\n",
              "4                                      198.6  ...                                             44.30\n",
              "\n",
              "[5 rows x 9 columns]"
            ]
          },
          "metadata": {
            "tags": []
          },
          "execution_count": 5
        }
      ]
    },
    {
      "cell_type": "code",
      "metadata": {
        "colab": {
          "base_uri": "https://localhost:8080/"
        },
        "id": "CytLJ81l7WWO",
        "outputId": "f572217f-bd40-47a9-ab06-9ab9c4cec344"
      },
      "source": [
        "df.isnull().sum()\n"
      ],
      "execution_count": 6,
      "outputs": [
        {
          "output_type": "execute_result",
          "data": {
            "text/plain": [
              "Cement (component 1)(kg in a m^3 mixture)                0\n",
              "Blast Furnace Slag (component 2)(kg in a m^3 mixture)    0\n",
              "Fly Ash (component 3)(kg in a m^3 mixture)               0\n",
              "Water  (component 4)(kg in a m^3 mixture)                0\n",
              "Superplasticizer (component 5)(kg in a m^3 mixture)      0\n",
              "Coarse Aggregate  (component 6)(kg in a m^3 mixture)     0\n",
              "Fine Aggregate (component 7)(kg in a m^3 mixture)        0\n",
              "Age (day)                                                0\n",
              "Concrete compressive strength(MPa, megapascals)          0\n",
              "dtype: int64"
            ]
          },
          "metadata": {
            "tags": []
          },
          "execution_count": 6
        }
      ]
    },
    {
      "cell_type": "code",
      "metadata": {
        "colab": {
          "base_uri": "https://localhost:8080/",
          "height": 419
        },
        "id": "IYpV46Km7rPM",
        "outputId": "93c00353-7f7e-4ebe-ffd4-13511ab7352c"
      },
      "source": [
        "df.describe()"
      ],
      "execution_count": 7,
      "outputs": [
        {
          "output_type": "execute_result",
          "data": {
            "text/html": [
              "<div>\n",
              "<style scoped>\n",
              "    .dataframe tbody tr th:only-of-type {\n",
              "        vertical-align: middle;\n",
              "    }\n",
              "\n",
              "    .dataframe tbody tr th {\n",
              "        vertical-align: top;\n",
              "    }\n",
              "\n",
              "    .dataframe thead th {\n",
              "        text-align: right;\n",
              "    }\n",
              "</style>\n",
              "<table border=\"1\" class=\"dataframe\">\n",
              "  <thead>\n",
              "    <tr style=\"text-align: right;\">\n",
              "      <th></th>\n",
              "      <th>Cement (component 1)(kg in a m^3 mixture)</th>\n",
              "      <th>Blast Furnace Slag (component 2)(kg in a m^3 mixture)</th>\n",
              "      <th>Fly Ash (component 3)(kg in a m^3 mixture)</th>\n",
              "      <th>Water  (component 4)(kg in a m^3 mixture)</th>\n",
              "      <th>Superplasticizer (component 5)(kg in a m^3 mixture)</th>\n",
              "      <th>Coarse Aggregate  (component 6)(kg in a m^3 mixture)</th>\n",
              "      <th>Fine Aggregate (component 7)(kg in a m^3 mixture)</th>\n",
              "      <th>Age (day)</th>\n",
              "      <th>Concrete compressive strength(MPa, megapascals)</th>\n",
              "    </tr>\n",
              "  </thead>\n",
              "  <tbody>\n",
              "    <tr>\n",
              "      <th>count</th>\n",
              "      <td>1030.000000</td>\n",
              "      <td>1030.000000</td>\n",
              "      <td>1030.000000</td>\n",
              "      <td>1030.000000</td>\n",
              "      <td>1030.000000</td>\n",
              "      <td>1030.000000</td>\n",
              "      <td>1030.000000</td>\n",
              "      <td>1030.000000</td>\n",
              "      <td>1030.000000</td>\n",
              "    </tr>\n",
              "    <tr>\n",
              "      <th>mean</th>\n",
              "      <td>281.167864</td>\n",
              "      <td>73.895825</td>\n",
              "      <td>54.188350</td>\n",
              "      <td>181.567282</td>\n",
              "      <td>6.204660</td>\n",
              "      <td>972.918932</td>\n",
              "      <td>773.580485</td>\n",
              "      <td>45.662136</td>\n",
              "      <td>35.817961</td>\n",
              "    </tr>\n",
              "    <tr>\n",
              "      <th>std</th>\n",
              "      <td>104.506364</td>\n",
              "      <td>86.279342</td>\n",
              "      <td>63.997004</td>\n",
              "      <td>21.354219</td>\n",
              "      <td>5.973841</td>\n",
              "      <td>77.753954</td>\n",
              "      <td>80.175980</td>\n",
              "      <td>63.169912</td>\n",
              "      <td>16.705742</td>\n",
              "    </tr>\n",
              "    <tr>\n",
              "      <th>min</th>\n",
              "      <td>102.000000</td>\n",
              "      <td>0.000000</td>\n",
              "      <td>0.000000</td>\n",
              "      <td>121.800000</td>\n",
              "      <td>0.000000</td>\n",
              "      <td>801.000000</td>\n",
              "      <td>594.000000</td>\n",
              "      <td>1.000000</td>\n",
              "      <td>2.330000</td>\n",
              "    </tr>\n",
              "    <tr>\n",
              "      <th>25%</th>\n",
              "      <td>192.375000</td>\n",
              "      <td>0.000000</td>\n",
              "      <td>0.000000</td>\n",
              "      <td>164.900000</td>\n",
              "      <td>0.000000</td>\n",
              "      <td>932.000000</td>\n",
              "      <td>730.950000</td>\n",
              "      <td>7.000000</td>\n",
              "      <td>23.710000</td>\n",
              "    </tr>\n",
              "    <tr>\n",
              "      <th>50%</th>\n",
              "      <td>272.900000</td>\n",
              "      <td>22.000000</td>\n",
              "      <td>0.000000</td>\n",
              "      <td>185.000000</td>\n",
              "      <td>6.400000</td>\n",
              "      <td>968.000000</td>\n",
              "      <td>779.500000</td>\n",
              "      <td>28.000000</td>\n",
              "      <td>34.445000</td>\n",
              "    </tr>\n",
              "    <tr>\n",
              "      <th>75%</th>\n",
              "      <td>350.000000</td>\n",
              "      <td>142.950000</td>\n",
              "      <td>118.300000</td>\n",
              "      <td>192.000000</td>\n",
              "      <td>10.200000</td>\n",
              "      <td>1029.400000</td>\n",
              "      <td>824.000000</td>\n",
              "      <td>56.000000</td>\n",
              "      <td>46.135000</td>\n",
              "    </tr>\n",
              "    <tr>\n",
              "      <th>max</th>\n",
              "      <td>540.000000</td>\n",
              "      <td>359.400000</td>\n",
              "      <td>200.100000</td>\n",
              "      <td>247.000000</td>\n",
              "      <td>32.200000</td>\n",
              "      <td>1145.000000</td>\n",
              "      <td>992.600000</td>\n",
              "      <td>365.000000</td>\n",
              "      <td>82.600000</td>\n",
              "    </tr>\n",
              "  </tbody>\n",
              "</table>\n",
              "</div>"
            ],
            "text/plain": [
              "       Cement (component 1)(kg in a m^3 mixture)  ...  Concrete compressive strength(MPa, megapascals) \n",
              "count                                1030.000000  ...                                       1030.000000\n",
              "mean                                  281.167864  ...                                         35.817961\n",
              "std                                   104.506364  ...                                         16.705742\n",
              "min                                   102.000000  ...                                          2.330000\n",
              "25%                                   192.375000  ...                                         23.710000\n",
              "50%                                   272.900000  ...                                         34.445000\n",
              "75%                                   350.000000  ...                                         46.135000\n",
              "max                                   540.000000  ...                                         82.600000\n",
              "\n",
              "[8 rows x 9 columns]"
            ]
          },
          "metadata": {
            "tags": []
          },
          "execution_count": 7
        }
      ]
    },
    {
      "cell_type": "code",
      "metadata": {
        "colab": {
          "base_uri": "https://localhost:8080/"
        },
        "id": "ir9pKj1E7xNL",
        "outputId": "63cebe42-4bfd-4f87-9ea1-18c35361587d"
      },
      "source": [
        "df.info()"
      ],
      "execution_count": 8,
      "outputs": [
        {
          "output_type": "stream",
          "text": [
            "<class 'pandas.core.frame.DataFrame'>\n",
            "RangeIndex: 1030 entries, 0 to 1029\n",
            "Data columns (total 9 columns):\n",
            " #   Column                                                 Non-Null Count  Dtype  \n",
            "---  ------                                                 --------------  -----  \n",
            " 0   Cement (component 1)(kg in a m^3 mixture)              1030 non-null   float64\n",
            " 1   Blast Furnace Slag (component 2)(kg in a m^3 mixture)  1030 non-null   float64\n",
            " 2   Fly Ash (component 3)(kg in a m^3 mixture)             1030 non-null   float64\n",
            " 3   Water  (component 4)(kg in a m^3 mixture)              1030 non-null   float64\n",
            " 4   Superplasticizer (component 5)(kg in a m^3 mixture)    1030 non-null   float64\n",
            " 5   Coarse Aggregate  (component 6)(kg in a m^3 mixture)   1030 non-null   float64\n",
            " 6   Fine Aggregate (component 7)(kg in a m^3 mixture)      1030 non-null   float64\n",
            " 7   Age (day)                                              1030 non-null   int64  \n",
            " 8   Concrete compressive strength(MPa, megapascals)        1030 non-null   float64\n",
            "dtypes: float64(8), int64(1)\n",
            "memory usage: 72.5 KB\n"
          ],
          "name": "stdout"
        }
      ]
    },
    {
      "cell_type": "code",
      "metadata": {
        "colab": {
          "base_uri": "https://localhost:8080/"
        },
        "id": "CnImXx8571Tr",
        "outputId": "408ab178-b6e6-47e2-a87e-c836eab70a13"
      },
      "source": [
        "df.keys()# to gets columns name"
      ],
      "execution_count": 9,
      "outputs": [
        {
          "output_type": "execute_result",
          "data": {
            "text/plain": [
              "Index(['Cement (component 1)(kg in a m^3 mixture)',\n",
              "       'Blast Furnace Slag (component 2)(kg in a m^3 mixture)',\n",
              "       'Fly Ash (component 3)(kg in a m^3 mixture)',\n",
              "       'Water  (component 4)(kg in a m^3 mixture)',\n",
              "       'Superplasticizer (component 5)(kg in a m^3 mixture)',\n",
              "       'Coarse Aggregate  (component 6)(kg in a m^3 mixture)',\n",
              "       'Fine Aggregate (component 7)(kg in a m^3 mixture)', 'Age (day)',\n",
              "       'Concrete compressive strength(MPa, megapascals) '],\n",
              "      dtype='object')"
            ]
          },
          "metadata": {
            "tags": []
          },
          "execution_count": 9
        }
      ]
    },
    {
      "cell_type": "code",
      "metadata": {
        "id": "COzk6vFK79oq"
      },
      "source": [
        "# split dataframe into input and output\n",
        "data=df.iloc[:,:8]\n",
        "\n",
        "targets=df.iloc[:,-1]"
      ],
      "execution_count": 11,
      "outputs": []
    },
    {
      "cell_type": "code",
      "metadata": {
        "colab": {
          "base_uri": "https://localhost:8080/",
          "height": 857
        },
        "id": "JUvjVjYC8HuM",
        "outputId": "c69a2dab-c436-4c52-f8e8-e0e8759c9a85"
      },
      "source": [
        "%matplotlib inline\n",
        "import matplotlib.pyplot as plt\n",
        "plt.style.use('ggplot')\n",
        "pd.DataFrame.hist(data, figsize = [30,30], color=\"blue\")\n",
        "plt.show()"
      ],
      "execution_count": 13,
      "outputs": [
        {
          "output_type": "display_data",
          "data": {
            "image/png": "[encoded data removed]",
            "text/plain": [
              "<Figure size 2160x2160 with 9 Axes>"
            ]
          },
          "metadata": {
            "tags": []
          }
        }
      ]
    },
    {
      "cell_type": "code",
      "metadata": {
        "colab": {
          "base_uri": "https://localhost:8080/",
          "height": 445
        },
        "id": "pe9Qg9eN8PB6",
        "outputId": "e6e236ad-1246-42d1-f102-26877df733f2"
      },
      "source": [
        "plt.style.use('ggplot')\n",
        "targets.hist( figsize = [7,7], color=\"Blue\")\n",
        "plt.title(\"Actual Targets\")\n",
        "plt.show()"
      ],
      "execution_count": 14,
      "outputs": [
        {
          "output_type": "display_data",
          "data": {
            "image/png": "[encoded data removed]",
            "text/plain": [
              "<Figure size 504x504 with 1 Axes>"
            ]
          },
          "metadata": {
            "tags": []
          }
        }
      ]
    },
    {
      "cell_type": "code",
      "metadata": {
        "id": "hMiV1G8f8Tcb"
      },
      "source": [
        "# standardized or normalized the data (input variables)\n",
        "mean = data.mean(axis=0)\n",
        "data-= mean\n",
        "std = data.std(axis=0)\n",
        "data/= std"
      ],
      "execution_count": 17,
      "outputs": []
    },
    {
      "cell_type": "code",
      "metadata": {
        "id": "qSt2yTNC8i4x"
      },
      "source": [
        "# data spliting using machine learning spliting method\n",
        "from sklearn.model_selection import train_test_split\n",
        "X_train,X_test,y_train,y_test=train_test_split(data,targets,random_state=0)"
      ],
      "execution_count": 18,
      "outputs": []
    },
    {
      "cell_type": "code",
      "metadata": {
        "colab": {
          "base_uri": "https://localhost:8080/"
        },
        "id": "8trXcS8f8tQ4",
        "outputId": "a5f69fff-c85d-439c-ffe2-f59ab00e2702"
      },
      "source": [
        "print(f\"Shape of training data :{X_train.shape},\\nShape of training targets:{y_train.shape}\")"
      ],
      "execution_count": 19,
      "outputs": [
        {
          "output_type": "stream",
          "text": [
            "Shape of training data :(772, 8),\n",
            "Shape of training targets:(772,)\n"
          ],
          "name": "stdout"
        }
      ]
    },
    {
      "cell_type": "code",
      "metadata": {
        "colab": {
          "base_uri": "https://localhost:8080/"
        },
        "id": "_AsVYcrw8xVR",
        "outputId": "8a10b13e-b1ac-4fcc-e068-8d89d11241ae"
      },
      "source": [
        "print(f\"Shape of testing data :{X_test.shape},\\nShape of testing targets:{y_test.shape}\")"
      ],
      "execution_count": 20,
      "outputs": [
        {
          "output_type": "stream",
          "text": [
            "Shape of testing data :(258, 8),\n",
            "Shape of testing targets:(258,)\n"
          ],
          "name": "stdout"
        }
      ]
    },
    {
      "cell_type": "code",
      "metadata": {
        "id": "r1GiJ4tQ81_g"
      },
      "source": [
        "X_train= np.asarray(X_train).astype('float32')\n",
        "X_test= np.asarray(X_test).astype('float32')\n"
      ],
      "execution_count": 23,
      "outputs": []
    },
    {
      "cell_type": "code",
      "metadata": {
        "id": "BHp5GY9r9BLP"
      },
      "source": [
        "val_X = X_train[:230]\n",
        "partial_X_train=X_train[230:]\n",
        "val_y=y_train[:230]\n",
        "partial_y_train=y_train[230:]"
      ],
      "execution_count": 24,
      "outputs": []
    },
    {
      "cell_type": "code",
      "metadata": {
        "id": "-6N28Ur09G0o"
      },
      "source": [
        "from keras import models, layers , optimizers"
      ],
      "execution_count": 25,
      "outputs": []
    },
    {
      "cell_type": "code",
      "metadata": {
        "id": "wmTVYfzu9Myw"
      },
      "source": [
        "network=models.Sequential()\n",
        "network.add(tf.keras.layers.Dense(10,activation=\"relu\",input_shape=(X_train.shape[1],)))\n",
        "network.add(tf.keras.layers.Dense(8,activation=\"relu\"))\n",
        "network.add(tf.keras.layers.Dense(1))"
      ],
      "execution_count": 26,
      "outputs": []
    },
    {
      "cell_type": "code",
      "metadata": {
        "colab": {
          "base_uri": "https://localhost:8080/"
        },
        "id": "XiYoUnwj9Sy-",
        "outputId": "70a25eb4-f650-4022-b5e5-415947babe6a"
      },
      "source": [
        "network.summary()"
      ],
      "execution_count": 27,
      "outputs": [
        {
          "output_type": "stream",
          "text": [
            "Model: \"sequential\"\n",
            "_________________________________________________________________\n",
            "Layer (type)                 Output Shape              Param #   \n",
            "=================================================================\n",
            "dense (Dense)                (None, 10)                90        \n",
            "_________________________________________________________________\n",
            "dense_1 (Dense)              (None, 8)                 88        \n",
            "_________________________________________________________________\n",
            "dense_2 (Dense)              (None, 1)                 9         \n",
            "=================================================================\n",
            "Total params: 187\n",
            "Trainable params: 187\n",
            "Non-trainable params: 0\n",
            "_________________________________________________________________\n"
          ],
          "name": "stdout"
        }
      ]
    },
    {
      "cell_type": "code",
      "metadata": {
        "colab": {
          "base_uri": "https://localhost:8080/"
        },
        "id": "GbxdBb329c8n",
        "outputId": "7b5071b4-71e2-4e36-9acc-77929345ccbd"
      },
      "source": [
        "network.compile(optimizer=optimizers.RMSprop(lr=0.001), loss=\"mse\",metrics=['mae'])\n",
        "history=network.fit(partial_X_train,partial_y_train,epochs=10,validation_data=(val_X,val_y),batch_size=1,verbose=1)"
      ],
      "execution_count": 31,
      "outputs": [
        {
          "output_type": "stream",
          "text": [
            "Epoch 1/10\n",
            "542/542 [==============================] - 2s 2ms/step - loss: 1341.2028 - mae: 32.8104 - val_loss: 1054.6598 - val_mae: 28.0551\n",
            "Epoch 2/10\n",
            "542/542 [==============================] - 1s 1ms/step - loss: 747.6719 - mae: 22.2098 - val_loss: 311.4714 - val_mae: 14.1941\n",
            "Epoch 3/10\n",
            "542/542 [==============================] - 1s 1ms/step - loss: 255.6201 - mae: 12.7611 - val_loss: 218.0072 - val_mae: 12.1075\n",
            "Epoch 4/10\n",
            "542/542 [==============================] - 1s 1ms/step - loss: 157.1730 - mae: 10.1938 - val_loss: 191.2406 - val_mae: 11.2888\n",
            "Epoch 5/10\n",
            "542/542 [==============================] - 1s 1ms/step - loss: 182.0929 - mae: 11.0096 - val_loss: 177.7261 - val_mae: 10.8059\n",
            "Epoch 6/10\n",
            "542/542 [==============================] - 1s 1ms/step - loss: 168.3716 - mae: 10.3055 - val_loss: 168.6613 - val_mae: 10.3672\n",
            "Epoch 7/10\n",
            "542/542 [==============================] - 1s 1ms/step - loss: 151.2105 - mae: 9.6455 - val_loss: 163.3369 - val_mae: 10.2513\n",
            "Epoch 8/10\n",
            "542/542 [==============================] - 1s 2ms/step - loss: 138.8392 - mae: 9.3135 - val_loss: 159.0495 - val_mae: 9.9577\n",
            "Epoch 9/10\n",
            "542/542 [==============================] - 1s 1ms/step - loss: 128.2085 - mae: 9.0221 - val_loss: 156.3123 - val_mae: 10.0467\n",
            "Epoch 10/10\n",
            "542/542 [==============================] - 1s 1ms/step - loss: 148.5932 - mae: 9.5801 - val_loss: 151.8843 - val_mae: 9.7598\n"
          ],
          "name": "stdout"
        }
      ]
    },
    {
      "cell_type": "code",
      "metadata": {
        "colab": {
          "base_uri": "https://localhost:8080/",
          "height": 299
        },
        "id": "juVL6aMD9g4f",
        "outputId": "90307bda-3ed4-403a-c80f-f647b22221cb"
      },
      "source": [
        "loss = history.history['loss']\n",
        "val_loss = history.history['val_loss']\n",
        "epochs = range(1, len(loss) + 1)\n",
        "plt.plot(epochs, loss, 'bo', label='Training loss')\n",
        "plt.plot(epochs, val_loss, 'b', label='Validation loss')\n",
        "plt.title('Training and validation loss')\n",
        "plt.xlabel('Epochs')\n",
        "plt.ylabel('Loss')\n",
        "plt.legend()\n",
        "plt.show()"
      ],
      "execution_count": 32,
      "outputs": [
        {
          "output_type": "display_data",
          "data": {
            "image/png": "[encoded data removed]",
            "text/plain": [
              "<Figure size 432x288 with 1 Axes>"
            ]
          },
          "metadata": {
            "tags": []
          }
        }
      ]
    },
    {
      "cell_type": "code",
      "metadata": {
        "colab": {
          "base_uri": "https://localhost:8080/"
        },
        "id": "UY2GMtRK9qvF",
        "outputId": "45e3459e-b815-4b9f-a24e-ddf4f11fa12d"
      },
      "source": [
        "all_mae_histories=[]\n",
        "mae_history = history.history['val_mae']\n",
        "all_mae_histories.append(mae_history)\n",
        "print(all_mae_histories)"
      ],
      "execution_count": 33,
      "outputs": [
        {
          "output_type": "stream",
          "text": [
            "[[28.05512237548828, 14.194053649902344, 12.107462882995605, 11.288820266723633, 10.805868148803711, 10.367237091064453, 10.251251220703125, 9.957691192626953, 10.046711921691895, 9.759780883789062]]\n"
          ],
          "name": "stdout"
        }
      ]
    },
    {
      "cell_type": "code",
      "metadata": {
        "colab": {
          "base_uri": "https://localhost:8080/"
        },
        "id": "H_x-nEX5-ERl",
        "outputId": "59e41d22-0cd6-404a-cff5-94322f867493"
      },
      "source": [
        "average_mae_history = [np.mean([x[i] for x in all_mae_histories]) for i in range(2)]\n",
        "print(average_mae_history)"
      ],
      "execution_count": 34,
      "outputs": [
        {
          "output_type": "stream",
          "text": [
            "[28.05512237548828, 14.194053649902344]\n"
          ],
          "name": "stdout"
        }
      ]
    },
    {
      "cell_type": "code",
      "metadata": {
        "colab": {
          "base_uri": "https://localhost:8080/",
          "height": 299
        },
        "id": "4Bw9ONJg-O2j",
        "outputId": "bd80c800-4fbf-4e2e-ddf2-c9a36d0af2d2"
      },
      "source": [
        "plt.plot(range(1, len(average_mae_history) + 1), average_mae_history)\n",
        "plt.title('Validation MAE by Epochs')\n",
        "plt.xlabel('Epochs')\n",
        "plt.ylabel('Validation MAE')\n",
        "plt.grid()\n",
        "plt.show()"
      ],
      "execution_count": 35,
      "outputs": [
        {
          "output_type": "display_data",
          "data": {
            "image/png": "[encoded data removed]",
            "text/plain": [
              "<Figure size 432x288 with 1 Axes>"
            ]
          },
          "metadata": {
            "tags": []
          }
        }
      ]
    },
    {
      "cell_type": "code",
      "metadata": {
        "colab": {
          "base_uri": "https://localhost:8080/"
        },
        "id": "t4xPDEh_-Xh0",
        "outputId": "41656c65-f9fc-442b-c6ab-cfcce9acd08b"
      },
      "source": [
        "test_mse_score, test_mae_score = network.evaluate(X_test, y_test)"
      ],
      "execution_count": 36,
      "outputs": [
        {
          "output_type": "stream",
          "text": [
            "9/9 [==============================] - 0s 2ms/step - loss: 130.6841 - mae: 9.1362\n"
          ],
          "name": "stdout"
        }
      ]
    },
    {
      "cell_type": "code",
      "metadata": {
        "colab": {
          "base_uri": "https://localhost:8080/"
        },
        "id": "kvgTkLE6-c_L",
        "outputId": "2fac449c-5cda-4cd6-a058-52e9903e1b32"
      },
      "source": [
        "test_mae_score"
      ],
      "execution_count": 37,
      "outputs": [
        {
          "output_type": "execute_result",
          "data": {
            "text/plain": [
              "9.13615608215332"
            ]
          },
          "metadata": {
            "tags": []
          },
          "execution_count": 37
        }
      ]
    },
    {
      "cell_type": "code",
      "metadata": {
        "colab": {
          "base_uri": "https://localhost:8080/"
        },
        "id": "pi-3m5dB-fOj",
        "outputId": "9787afc7-4f0b-4398-9886-9fcbab6a33de"
      },
      "source": [
        "y_pred = network.predict(X_test)\n",
        "y_pred"
      ],
      "execution_count": 38,
      "outputs": [
        {
          "output_type": "execute_result",
          "data": {
            "text/plain": [
              "array([[44.02653  ],\n",
              "       [18.92394  ],\n",
              "       [60.66412  ],\n",
              "       [46.9585   ],\n",
              "       [24.527311 ],\n",
              "       [60.090908 ],\n",
              "       [47.90592  ],\n",
              "       [30.907522 ],\n",
              "       [52.06587  ],\n",
              "       [44.98023  ],\n",
              "       [20.099602 ],\n",
              "       [46.300575 ],\n",
              "       [23.854818 ],\n",
              "       [31.51293  ],\n",
              "       [49.494465 ],\n",
              "       [54.62737  ],\n",
              "       [32.65773  ],\n",
              "       [27.298388 ],\n",
              "       [52.22875  ],\n",
              "       [28.915878 ],\n",
              "       [46.897846 ],\n",
              "       [33.897606 ],\n",
              "       [30.87636  ],\n",
              "       [51.918472 ],\n",
              "       [21.477636 ],\n",
              "       [21.343462 ],\n",
              "       [82.254745 ],\n",
              "       [29.143112 ],\n",
              "       [54.62737  ],\n",
              "       [48.101475 ],\n",
              "       [19.01028  ],\n",
              "       [35.189323 ],\n",
              "       [18.006826 ],\n",
              "       [25.11123  ],\n",
              "       [23.576347 ],\n",
              "       [16.12001  ],\n",
              "       [59.67391  ],\n",
              "       [25.628855 ],\n",
              "       [27.244612 ],\n",
              "       [25.300074 ],\n",
              "       [51.197384 ],\n",
              "       [28.859787 ],\n",
              "       [26.122534 ],\n",
              "       [33.20563  ],\n",
              "       [54.277935 ],\n",
              "       [53.797077 ],\n",
              "       [26.843946 ],\n",
              "       [48.05261  ],\n",
              "       [35.96474  ],\n",
              "       [71.23536  ],\n",
              "       [31.604712 ],\n",
              "       [20.143927 ],\n",
              "       [27.293146 ],\n",
              "       [28.056807 ],\n",
              "       [45.076725 ],\n",
              "       [43.976414 ],\n",
              "       [34.489918 ],\n",
              "       [48.97755  ],\n",
              "       [60.74656  ],\n",
              "       [32.955307 ],\n",
              "       [27.531488 ],\n",
              "       [18.20175  ],\n",
              "       [42.530163 ],\n",
              "       [60.78864  ],\n",
              "       [15.619301 ],\n",
              "       [43.478863 ],\n",
              "       [26.73897  ],\n",
              "       [35.0535   ],\n",
              "       [22.441366 ],\n",
              "       [20.752104 ],\n",
              "       [31.732878 ],\n",
              "       [30.632261 ],\n",
              "       [54.26247  ],\n",
              "       [21.021452 ],\n",
              "       [28.17385  ],\n",
              "       [46.297974 ],\n",
              "       [20.280985 ],\n",
              "       [17.329752 ],\n",
              "       [23.09389  ],\n",
              "       [24.145617 ],\n",
              "       [21.67324  ],\n",
              "       [41.37024  ],\n",
              "       [30.104868 ],\n",
              "       [28.374971 ],\n",
              "       [32.165447 ],\n",
              "       [35.372787 ],\n",
              "       [41.70844  ],\n",
              "       [42.780926 ],\n",
              "       [39.097813 ],\n",
              "       [33.42864  ],\n",
              "       [50.150555 ],\n",
              "       [18.234552 ],\n",
              "       [29.930517 ],\n",
              "       [34.652386 ],\n",
              "       [34.19943  ],\n",
              "       [68.98608  ],\n",
              "       [30.217783 ],\n",
              "       [30.665533 ],\n",
              "       [45.20418  ],\n",
              "       [25.53037  ],\n",
              "       [20.343271 ],\n",
              "       [38.335392 ],\n",
              "       [21.86467  ],\n",
              "       [32.202835 ],\n",
              "       [34.721073 ],\n",
              "       [31.356947 ],\n",
              "       [34.84271  ],\n",
              "       [35.423706 ],\n",
              "       [24.392782 ],\n",
              "       [36.60378  ],\n",
              "       [19.650816 ],\n",
              "       [56.85606  ],\n",
              "       [21.950972 ],\n",
              "       [27.862314 ],\n",
              "       [40.43475  ],\n",
              "       [65.642586 ],\n",
              "       [27.696169 ],\n",
              "       [43.775696 ],\n",
              "       [39.32512  ],\n",
              "       [26.041914 ],\n",
              "       [45.855434 ],\n",
              "       [20.544535 ],\n",
              "       [62.532726 ],\n",
              "       [21.149763 ],\n",
              "       [28.527449 ],\n",
              "       [15.9477005],\n",
              "       [18.48526  ],\n",
              "       [22.338743 ],\n",
              "       [35.412777 ],\n",
              "       [28.54827  ],\n",
              "       [27.563646 ],\n",
              "       [57.559475 ],\n",
              "       [27.277975 ],\n",
              "       [28.142935 ],\n",
              "       [17.29587  ],\n",
              "       [49.03479  ],\n",
              "       [71.53686  ],\n",
              "       [33.667263 ],\n",
              "       [21.628122 ],\n",
              "       [19.900618 ],\n",
              "       [37.046223 ],\n",
              "       [57.676178 ],\n",
              "       [26.659218 ],\n",
              "       [26.093882 ],\n",
              "       [19.212334 ],\n",
              "       [36.73626  ],\n",
              "       [39.724056 ],\n",
              "       [20.719988 ],\n",
              "       [24.642576 ],\n",
              "       [19.895555 ],\n",
              "       [20.572298 ],\n",
              "       [36.769375 ],\n",
              "       [17.87395  ],\n",
              "       [24.439568 ],\n",
              "       [28.755407 ],\n",
              "       [25.838715 ],\n",
              "       [44.56578  ],\n",
              "       [27.70384  ],\n",
              "       [26.218843 ],\n",
              "       [20.603642 ],\n",
              "       [40.21295  ],\n",
              "       [39.463066 ],\n",
              "       [30.480011 ],\n",
              "       [22.721846 ],\n",
              "       [36.00929  ],\n",
              "       [17.617867 ],\n",
              "       [71.52575  ],\n",
              "       [50.0033   ],\n",
              "       [71.26759  ],\n",
              "       [16.341764 ],\n",
              "       [34.31139  ],\n",
              "       [27.462759 ],\n",
              "       [22.109362 ],\n",
              "       [68.737885 ],\n",
              "       [22.4471   ],\n",
              "       [18.99801  ],\n",
              "       [26.623522 ],\n",
              "       [47.536816 ],\n",
              "       [22.794107 ],\n",
              "       [43.157215 ],\n",
              "       [34.485737 ],\n",
              "       [31.744335 ],\n",
              "       [20.239443 ],\n",
              "       [38.87196  ],\n",
              "       [28.30725  ],\n",
              "       [33.376976 ],\n",
              "       [40.157795 ],\n",
              "       [36.953228 ],\n",
              "       [29.580008 ],\n",
              "       [42.530163 ],\n",
              "       [21.371252 ],\n",
              "       [86.25959  ],\n",
              "       [45.439655 ],\n",
              "       [26.99447  ],\n",
              "       [21.452875 ],\n",
              "       [27.664648 ],\n",
              "       [30.34468  ],\n",
              "       [27.499865 ],\n",
              "       [24.257168 ],\n",
              "       [57.334026 ],\n",
              "       [18.925686 ],\n",
              "       [20.6952   ],\n",
              "       [51.178036 ],\n",
              "       [27.709768 ],\n",
              "       [26.897362 ],\n",
              "       [18.734533 ],\n",
              "       [38.075638 ],\n",
              "       [26.375736 ],\n",
              "       [34.42294  ],\n",
              "       [21.587362 ],\n",
              "       [50.600704 ],\n",
              "       [19.483912 ],\n",
              "       [21.928751 ],\n",
              "       [23.978357 ],\n",
              "       [32.322906 ],\n",
              "       [25.703066 ],\n",
              "       [18.466604 ],\n",
              "       [43.88022  ],\n",
              "       [20.153011 ],\n",
              "       [36.872883 ],\n",
              "       [58.713757 ],\n",
              "       [28.689413 ],\n",
              "       [39.207703 ],\n",
              "       [39.838818 ],\n",
              "       [51.35348  ],\n",
              "       [31.625998 ],\n",
              "       [22.319872 ],\n",
              "       [29.428385 ],\n",
              "       [33.56084  ],\n",
              "       [48.857327 ],\n",
              "       [35.972973 ],\n",
              "       [35.994125 ],\n",
              "       [65.21854  ],\n",
              "       [20.13725  ],\n",
              "       [43.5161   ],\n",
              "       [29.541937 ],\n",
              "       [29.361927 ],\n",
              "       [39.807224 ],\n",
              "       [28.791105 ],\n",
              "       [62.670048 ],\n",
              "       [65.19917  ],\n",
              "       [32.697773 ],\n",
              "       [46.248108 ],\n",
              "       [30.063166 ],\n",
              "       [25.385504 ],\n",
              "       [21.865421 ],\n",
              "       [42.053555 ],\n",
              "       [20.14276  ],\n",
              "       [34.261456 ],\n",
              "       [17.102203 ],\n",
              "       [16.687971 ],\n",
              "       [39.45668  ],\n",
              "       [43.58736  ],\n",
              "       [33.935486 ],\n",
              "       [35.843388 ],\n",
              "       [21.26653  ],\n",
              "       [26.1728   ],\n",
              "       [18.41075  ]], dtype=float32)"
            ]
          },
          "metadata": {
            "tags": []
          },
          "execution_count": 38
        }
      ]
    },
    {
      "cell_type": "code",
      "metadata": {
        "colab": {
          "base_uri": "https://localhost:8080/",
          "height": 251
        },
        "id": "j61Y5xtU-qlq",
        "outputId": "8444c85b-ce0c-4589-bd21-4906ed61f476"
      },
      "source": [
        "plt.figure(figsize=(20,5))\n",
        "plt.subplot(1, 2, 1 )\n",
        "plt.hist(targets)\n",
        "plt.xlabel('original target value')\n",
        "plt.ylabel('count')\n",
        "plt.subplot(1, 2, 2)\n",
        "plt.hist(y_pred)\n",
        "plt.xlabel('aggregated target value')\n",
        "plt.show()"
      ],
      "execution_count": 39,
      "outputs": [
        {
          "output_type": "display_data",
          "data": {
            "image/png": "[encoded data removed]",
            "text/plain": [
              "<Figure size 1440x360 with 2 Axes>"
            ]
          },
          "metadata": {
            "tags": []
          }
        }
      ]
    }
  ]
}