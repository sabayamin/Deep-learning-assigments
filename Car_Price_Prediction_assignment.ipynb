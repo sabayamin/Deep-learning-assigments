{
  "nbformat": 4,
  "nbformat_minor": 0,
  "metadata": {
    "kernelspec": {
      "display_name": "Python 3",
      "language": "python",
      "name": "python3"
    },
    "language_info": {
      "codemirror_mode": {
        "name": "ipython",
        "version": 3
      },
      "file_extension": ".py",
      "mimetype": "text/x-python",
      "name": "python",
      "nbconvert_exporter": "python",
      "pygments_lexer": "ipython3",
      "version": "3.7.6"
    },
    "colab": {
      "name": "Car_Price_Prediction_assignment.ipynb",
      "provenance": [],
      "toc_visible": true,
      "include_colab_link": true
    }
  },
  "cells": [
    {
      "cell_type": "markdown",
      "metadata": {
        "id": "view-in-github",
        "colab_type": "text"
      },
      "source": [
        "<a href=\"https://colab.research.google.com/github/sabayamin/Deep-learning-assigments/blob/main/Car_Price_Prediction_assignment.ipynb\" target=\"_parent\"><img src=\"https://colab.research.google.com/assets/colab-badge.svg\" alt=\"Open In Colab\"/></a>"
      ]
    },
    {
      "cell_type": "markdown",
      "metadata": {
        "id": "sMNQWyN0xU9q"
      },
      "source": [
        "# Car Price Prediction::"
      ]
    },
    {
      "cell_type": "markdown",
      "metadata": {
        "id": "lRcwEJBbxU91"
      },
      "source": [
        "Download dataset from this link:\n",
        "\n",
        "https://www.kaggle.com/hellbuoy/car-price-prediction"
      ]
    },
    {
      "cell_type": "markdown",
      "metadata": {
        "id": "6iwzOdWVxU92"
      },
      "source": [
        "# Problem Statement::"
      ]
    },
    {
      "cell_type": "markdown",
      "metadata": {
        "id": "vdcrxOjJxU93"
      },
      "source": [
        "A Chinese automobile company Geely Auto aspires to enter the US market by setting up their manufacturing unit there and producing cars locally to give competition to their US and European counterparts.\n",
        "\n",
        "They have contracted an automobile consulting company to understand the factors on which the pricing of cars depends. Specifically, they want to understand the factors affecting the pricing of cars in the American market, since those may be very different from the Chinese market. The company wants to know:\n",
        "\n",
        "Which variables are significant in predicting the price of a car\n",
        "How well those variables describe the price of a car\n",
        "Based on various market surveys, the consulting firm has gathered a large data set of different types of cars across the America market.\n",
        "\n",
        "# task::\n",
        "We are required to model the price of cars with the available independent variables. It will be used by the management to understand how exactly the prices vary with the independent variables. They can accordingly manipulate the design of the cars, the business strategy etc. to meet certain price levels. Further, the model will be a good way for management to understand the pricing dynamics of a new market."
      ]
    },
    {
      "cell_type": "markdown",
      "metadata": {
        "id": "A9udJmRIxU94"
      },
      "source": [
        "# WORKFLOW ::"
      ]
    },
    {
      "cell_type": "markdown",
      "metadata": {
        "id": "Mg0LFipjxU94"
      },
      "source": [
        "1.Load Data\n",
        "\n",
        "2.Check Missing Values ( If Exist ; Fill each record with mean of its feature )\n",
        "\n",
        "3.Split into 50% Training(Samples,Labels) , 30% Test(Samples,Labels) and 20% Validation Data(Samples,Labels).\n",
        "\n",
        "4.Model : input Layer (No. of features ), 3 hidden layers including 10,8,6 unit & Output Layer with activation function relu/tanh (check by experiment).\n",
        "\n",
        "5.Compilation Step (Note : Its a Regression problem , select loss , metrics according to it)\n",
        "6.Train the Model with Epochs (100) and validate it\n",
        "\n",
        "7.If the model gets overfit tune your model by changing the units , No. of layers , activation function , epochs , add dropout layer or add Regularizer according to the need .\n",
        "\n",
        "8.Evaluation Step\n",
        "\n",
        "9.Prediction"
      ]
    },
    {
      "cell_type": "code",
      "metadata": {
        "id": "6p7Jhz5_xU95"
      },
      "source": [
        "import numpy as np \n",
        "import pandas as pd \n",
        "import tensorflow as tf  "
      ],
      "execution_count": 1,
      "outputs": []
    },
    {
      "cell_type": "code",
      "metadata": {
        "id": "Xbu5dVklxU96",
        "colab": {
          "base_uri": "https://localhost:8080/"
        },
        "outputId": "7c0b0ab7-322e-4d72-da48-10a7c2809370"
      },
      "source": [
        "from google.colab import drive \n",
        "drive.mount(\"/content/drive\")"
      ],
      "execution_count": 2,
      "outputs": [
        {
          "output_type": "stream",
          "text": [
            "Drive already mounted at /content/drive; to attempt to forcibly remount, call drive.mount(\"/content/drive\", force_remount=True).\n"
          ],
          "name": "stdout"
        }
      ]
    },
    {
      "cell_type": "code",
      "metadata": {
        "id": "Ed3u6UgMxU97"
      },
      "source": [
        "df_car=pd.read_csv('/content/drive/MyDrive/CarPrice_Assignment.csv')"
      ],
      "execution_count": 3,
      "outputs": []
    },
    {
      "cell_type": "code",
      "metadata": {
        "id": "QRE1LVNUxU97"
      },
      "source": [
        "X=df_car.iloc[:,:-1]\n",
        "y=df_car.iloc[:,-1]\n"
      ],
      "execution_count": 4,
      "outputs": []
    },
    {
      "cell_type": "code",
      "metadata": {
        "id": "4bWOt9VUxU98"
      },
      "source": [
        "X.drop(X.select_dtypes(include='object'),axis=1,inplace=True)"
      ],
      "execution_count": 5,
      "outputs": []
    },
    {
      "cell_type": "code",
      "metadata": {
        "id": "_hKLuWjrxU98",
        "colab": {
          "base_uri": "https://localhost:8080/"
        },
        "outputId": "80d3edae-9924-4d1c-ad4c-e1a9977d93af"
      },
      "source": [
        "print(f\"Shape of input ==> X :{X.shape}\\nShape of output ==> Y :{y.shape} \")"
      ],
      "execution_count": 6,
      "outputs": [
        {
          "output_type": "stream",
          "text": [
            "Shape of input ==> X :(205, 15)\n",
            "Shape of output ==> Y :(205,) \n"
          ],
          "name": "stdout"
        }
      ]
    },
    {
      "cell_type": "code",
      "metadata": {
        "id": "qRSmxSjNw3lA"
      },
      "source": [
        "X_train=X.sample(frac=0.7, replace=True, random_state=1,axis=0)\n",
        "y_train=y.sample(frac=0.7, replace=True, random_state=1,axis=0)"
      ],
      "execution_count": 7,
      "outputs": []
    },
    {
      "cell_type": "code",
      "metadata": {
        "id": "NHctymfdw-Jl"
      },
      "source": [
        "X_test=X.sample(frac=0.3, replace=True, random_state=1,axis=0)\n",
        "y_test=y.sample(frac=0.3, replace=True, random_state=1,axis=0)"
      ],
      "execution_count": 8,
      "outputs": []
    },
    {
      "cell_type": "code",
      "metadata": {
        "colab": {
          "base_uri": "https://localhost:8080/"
        },
        "id": "tjgngfguxE5N",
        "outputId": "649d0966-3374-4eac-ca1c-8b85a20e51e5"
      },
      "source": [
        "print(f\"shape of training data is :{X_train.shape}\\nshape of training label is :{y_train.shape}\\nshape of testing data is :{X_test.shape}\\nshape of testing label is :{y_test.shape}\")"
      ],
      "execution_count": 9,
      "outputs": [
        {
          "output_type": "stream",
          "text": [
            "shape of training data is :(144, 15)\n",
            "shape of training label is :(144,)\n",
            "shape of testing data is :(62, 15)\n",
            "shape of testing label is :(62,)\n"
          ],
          "name": "stdout"
        }
      ]
    },
    {
      "cell_type": "code",
      "metadata": {
        "id": "V2T69dosxMit"
      },
      "source": [
        "X_train=np.asarray(X_train).astype(\"float32\")\n",
        "X_test=np.asarray(X_test).astype(\"float32\")"
      ],
      "execution_count": 10,
      "outputs": []
    },
    {
      "cell_type": "code",
      "metadata": {
        "id": "i3VYNL8RxUQW"
      },
      "source": [
        "mean = X_train.mean(axis=0)\n",
        "X_train-= mean\n",
        "std = X_train.std(axis=0)\n",
        "X_train/= std\n",
        "X_test-= mean\n",
        "X_test/= std\n"
      ],
      "execution_count": 11,
      "outputs": []
    },
    {
      "cell_type": "code",
      "metadata": {
        "id": "ISf90MbHxZH9"
      },
      "source": [
        "y_mean = y_train.mean(axis=0)\n",
        "y_train-= y_mean\n",
        "y_std = y_train.std(axis=0)\n",
        "y_train/= y_std\n",
        "y_test-= y_mean\n",
        "y_test/= y_std"
      ],
      "execution_count": 12,
      "outputs": []
    },
    {
      "cell_type": "code",
      "metadata": {
        "id": "SOtmQQhmxgLW"
      },
      "source": [
        "val_x=X_train[:50]\n",
        "partial_x_train=X_train[50:]\n",
        "val_y=y_train[:50]\n",
        "partial_y_train=y_train[50:]"
      ],
      "execution_count": 13,
      "outputs": []
    },
    {
      "cell_type": "code",
      "metadata": {
        "id": "2Oj06mLsxlBE"
      },
      "source": [
        "import tensorflow as tf\n",
        "from keras import models,layers,optimizers,losses\n",
        "network=models.Sequential()\n",
        "network.add(layers.Dense(10,activation=\"relu\" ,input_shape=(X_train.shape[1],)))\n",
        "network.add(layers.Dropout(0.2))\n",
        "network.add(layers.Dense(8,activation=\"relu\"))\n",
        "#network.add(layers.Dropout(0.2))\n",
        "network.add(layers.Dense(6,activation=\"relu\"))\n",
        "network.add(layers.Dense(1))\n",
        "network.compile(optimizer=\"rmsprop\",loss=\"mse\",metrics=[\"mae\"])"
      ],
      "execution_count": 14,
      "outputs": []
    },
    {
      "cell_type": "code",
      "metadata": {
        "colab": {
          "base_uri": "https://localhost:8080/"
        },
        "id": "7iSV_t9uxo5U",
        "outputId": "160ad8bc-0065-456a-f27a-6e541eb2f4c8"
      },
      "source": [
        "network.summary()"
      ],
      "execution_count": 15,
      "outputs": [
        {
          "output_type": "stream",
          "text": [
            "Model: \"sequential\"\n",
            "_________________________________________________________________\n",
            "Layer (type)                 Output Shape              Param #   \n",
            "=================================================================\n",
            "dense (Dense)                (None, 10)                160       \n",
            "_________________________________________________________________\n",
            "dropout (Dropout)            (None, 10)                0         \n",
            "_________________________________________________________________\n",
            "dense_1 (Dense)              (None, 8)                 88        \n",
            "_________________________________________________________________\n",
            "dense_2 (Dense)              (None, 6)                 54        \n",
            "_________________________________________________________________\n",
            "dense_3 (Dense)              (None, 1)                 7         \n",
            "=================================================================\n",
            "Total params: 309\n",
            "Trainable params: 309\n",
            "Non-trainable params: 0\n",
            "_________________________________________________________________\n"
          ],
          "name": "stdout"
        }
      ]
    },
    {
      "cell_type": "code",
      "metadata": {
        "colab": {
          "base_uri": "https://localhost:8080/"
        },
        "id": "NLBcIHvZxv9m",
        "outputId": "d6941e83-6cb5-47e0-9955-9b50efed58b4"
      },
      "source": [
        "history=network.fit(partial_x_train, partial_y_train,epochs=45, batch_size=1, verbose=1,validation_data=(val_x,val_y))\n"
      ],
      "execution_count": 16,
      "outputs": [
        {
          "output_type": "stream",
          "text": [
            "Epoch 1/45\n",
            "94/94 [==============================] - 1s 5ms/step - loss: 1.3757 - mae: 0.7802 - val_loss: 1.4429 - val_mae: 0.8262\n",
            "Epoch 2/45\n",
            "94/94 [==============================] - 0s 1ms/step - loss: 0.5062 - mae: 0.5016 - val_loss: 1.3654 - val_mae: 0.7879\n",
            "Epoch 3/45\n",
            "94/94 [==============================] - 0s 1ms/step - loss: 0.3929 - mae: 0.3966 - val_loss: 1.2925 - val_mae: 0.7666\n",
            "Epoch 4/45\n",
            "94/94 [==============================] - 0s 2ms/step - loss: 0.5396 - mae: 0.4827 - val_loss: 1.2495 - val_mae: 0.7559\n",
            "Epoch 5/45\n",
            "94/94 [==============================] - 0s 1ms/step - loss: 0.5841 - mae: 0.4760 - val_loss: 1.2033 - val_mae: 0.7322\n",
            "Epoch 6/45\n",
            "94/94 [==============================] - 0s 2ms/step - loss: 0.5242 - mae: 0.4656 - val_loss: 1.1701 - val_mae: 0.7307\n",
            "Epoch 7/45\n",
            "94/94 [==============================] - 0s 1ms/step - loss: 0.5138 - mae: 0.4303 - val_loss: 1.1384 - val_mae: 0.7219\n",
            "Epoch 8/45\n",
            "94/94 [==============================] - 0s 1ms/step - loss: 0.3988 - mae: 0.4365 - val_loss: 1.1158 - val_mae: 0.7162\n",
            "Epoch 9/45\n",
            "94/94 [==============================] - 0s 1ms/step - loss: 0.4204 - mae: 0.3984 - val_loss: 1.0866 - val_mae: 0.6955\n",
            "Epoch 10/45\n",
            "94/94 [==============================] - 0s 1ms/step - loss: 0.4612 - mae: 0.4058 - val_loss: 1.0759 - val_mae: 0.7113\n",
            "Epoch 11/45\n",
            "94/94 [==============================] - 0s 2ms/step - loss: 0.3559 - mae: 0.3683 - val_loss: 1.0552 - val_mae: 0.6854\n",
            "Epoch 12/45\n",
            "94/94 [==============================] - 0s 2ms/step - loss: 0.5905 - mae: 0.4355 - val_loss: 1.0413 - val_mae: 0.6780\n",
            "Epoch 13/45\n",
            "94/94 [==============================] - 0s 1ms/step - loss: 0.2595 - mae: 0.3112 - val_loss: 1.0311 - val_mae: 0.6685\n",
            "Epoch 14/45\n",
            "94/94 [==============================] - 0s 1ms/step - loss: 0.4283 - mae: 0.3565 - val_loss: 1.0221 - val_mae: 0.6618\n",
            "Epoch 15/45\n",
            "94/94 [==============================] - 0s 1ms/step - loss: 0.9065 - mae: 0.4861 - val_loss: 1.0039 - val_mae: 0.6575\n",
            "Epoch 16/45\n",
            "94/94 [==============================] - 0s 1ms/step - loss: 0.3552 - mae: 0.3580 - val_loss: 0.9893 - val_mae: 0.6542\n",
            "Epoch 17/45\n",
            "94/94 [==============================] - 0s 1ms/step - loss: 0.5185 - mae: 0.3881 - val_loss: 0.9704 - val_mae: 0.6556\n",
            "Epoch 18/45\n",
            "94/94 [==============================] - 0s 1ms/step - loss: 0.7068 - mae: 0.4435 - val_loss: 0.9578 - val_mae: 0.6465\n",
            "Epoch 19/45\n",
            "94/94 [==============================] - 0s 1ms/step - loss: 0.3171 - mae: 0.3260 - val_loss: 0.9539 - val_mae: 0.6534\n",
            "Epoch 20/45\n",
            "94/94 [==============================] - 0s 2ms/step - loss: 0.2844 - mae: 0.2710 - val_loss: 0.9494 - val_mae: 0.6596\n",
            "Epoch 21/45\n",
            "94/94 [==============================] - 0s 1ms/step - loss: 0.2709 - mae: 0.2990 - val_loss: 0.9296 - val_mae: 0.6454\n",
            "Epoch 22/45\n",
            "94/94 [==============================] - 0s 1ms/step - loss: 0.6295 - mae: 0.4245 - val_loss: 0.9124 - val_mae: 0.6247\n",
            "Epoch 23/45\n",
            "94/94 [==============================] - 0s 1ms/step - loss: 0.6503 - mae: 0.3912 - val_loss: 0.8967 - val_mae: 0.6217\n",
            "Epoch 24/45\n",
            "94/94 [==============================] - 0s 1ms/step - loss: 0.3992 - mae: 0.3196 - val_loss: 0.8923 - val_mae: 0.5887\n",
            "Epoch 25/45\n",
            "94/94 [==============================] - 0s 1ms/step - loss: 0.2477 - mae: 0.3039 - val_loss: 0.8862 - val_mae: 0.6234\n",
            "Epoch 26/45\n",
            "94/94 [==============================] - 0s 1ms/step - loss: 0.3217 - mae: 0.2912 - val_loss: 0.8908 - val_mae: 0.6253\n",
            "Epoch 27/45\n",
            "94/94 [==============================] - 0s 1ms/step - loss: 0.4903 - mae: 0.3624 - val_loss: 0.8730 - val_mae: 0.6134\n",
            "Epoch 28/45\n",
            "94/94 [==============================] - 0s 1ms/step - loss: 0.5691 - mae: 0.3436 - val_loss: 0.8585 - val_mae: 0.5911\n",
            "Epoch 29/45\n",
            "94/94 [==============================] - 0s 1ms/step - loss: 0.3343 - mae: 0.3080 - val_loss: 0.8404 - val_mae: 0.5920\n",
            "Epoch 30/45\n",
            "94/94 [==============================] - 0s 1ms/step - loss: 0.4371 - mae: 0.3346 - val_loss: 0.8361 - val_mae: 0.5883\n",
            "Epoch 31/45\n",
            "94/94 [==============================] - 0s 1ms/step - loss: 0.7203 - mae: 0.4458 - val_loss: 0.8240 - val_mae: 0.5808\n",
            "Epoch 32/45\n",
            "94/94 [==============================] - 0s 1ms/step - loss: 0.1839 - mae: 0.2568 - val_loss: 0.8228 - val_mae: 0.5886\n",
            "Epoch 33/45\n",
            "94/94 [==============================] - 0s 1ms/step - loss: 0.1599 - mae: 0.2362 - val_loss: 0.8149 - val_mae: 0.5621\n",
            "Epoch 34/45\n",
            "94/94 [==============================] - 0s 1ms/step - loss: 0.4797 - mae: 0.3319 - val_loss: 0.8107 - val_mae: 0.5802\n",
            "Epoch 35/45\n",
            "94/94 [==============================] - 0s 2ms/step - loss: 0.4301 - mae: 0.3354 - val_loss: 0.7988 - val_mae: 0.5593\n",
            "Epoch 36/45\n",
            "94/94 [==============================] - 0s 1ms/step - loss: 0.2929 - mae: 0.2993 - val_loss: 0.7936 - val_mae: 0.5602\n",
            "Epoch 37/45\n",
            "94/94 [==============================] - 0s 2ms/step - loss: 0.5696 - mae: 0.4164 - val_loss: 0.8046 - val_mae: 0.5755\n",
            "Epoch 38/45\n",
            "94/94 [==============================] - 0s 1ms/step - loss: 0.4234 - mae: 0.3054 - val_loss: 0.8014 - val_mae: 0.5772\n",
            "Epoch 39/45\n",
            "94/94 [==============================] - 0s 1ms/step - loss: 0.6797 - mae: 0.3772 - val_loss: 0.7721 - val_mae: 0.5273\n",
            "Epoch 40/45\n",
            "94/94 [==============================] - 0s 1ms/step - loss: 0.3833 - mae: 0.3145 - val_loss: 0.7791 - val_mae: 0.5649\n",
            "Epoch 41/45\n",
            "94/94 [==============================] - 0s 1ms/step - loss: 0.2038 - mae: 0.2599 - val_loss: 0.7681 - val_mae: 0.5532\n",
            "Epoch 42/45\n",
            "94/94 [==============================] - 0s 2ms/step - loss: 0.3066 - mae: 0.2675 - val_loss: 0.7672 - val_mae: 0.5609\n",
            "Epoch 43/45\n",
            "94/94 [==============================] - 0s 1ms/step - loss: 0.3426 - mae: 0.2821 - val_loss: 0.7641 - val_mae: 0.5686\n",
            "Epoch 44/45\n",
            "94/94 [==============================] - 0s 1ms/step - loss: 0.2236 - mae: 0.2231 - val_loss: 0.7613 - val_mae: 0.5701\n",
            "Epoch 45/45\n",
            "94/94 [==============================] - 0s 1ms/step - loss: 0.2162 - mae: 0.2198 - val_loss: 0.7617 - val_mae: 0.5481\n"
          ],
          "name": "stdout"
        }
      ]
    },
    {
      "cell_type": "code",
      "metadata": {
        "colab": {
          "base_uri": "https://localhost:8080/",
          "height": 295
        },
        "id": "705qmtdmx7tz",
        "outputId": "1ece7ef2-af51-441e-fef4-5839fa9e42ce"
      },
      "source": [
        "import matplotlib.pyplot as plt\n",
        "loss = history.history['loss']\n",
        "val_loss = history.history['val_loss']\n",
        "epochs = range(1, len(loss) + 1)\n",
        "plt.plot(epochs, loss,\"go\",label='Training loss')\n",
        "plt.plot(epochs, val_loss, 'r', label='Validation loss')\n",
        "plt.title('Training and validation loss')\n",
        "plt.xlabel('Epochs')\n",
        "plt.ylabel('Loss')\n",
        "plt.legend()\n",
        "plt.grid()\n",
        "plt.show()"
      ],
      "execution_count": 17,
      "outputs": [
        {
          "output_type": "display_data",
          "data": {
            "image/png": "[encoded data removed]",
            "text/plain": [
              "<Figure size 432x288 with 1 Axes>"
            ]
          },
          "metadata": {
            "tags": [],
            "needs_background": "light"
          }
        }
      ]
    },
    {
      "cell_type": "code",
      "metadata": {
        "colab": {
          "base_uri": "https://localhost:8080/"
        },
        "id": "tDx6IbjJyB3a",
        "outputId": "e4552a51-69ad-4d02-a8df-a81070b95983"
      },
      "source": [
        "network.evaluate(X_test,y_test)"
      ],
      "execution_count": 18,
      "outputs": [
        {
          "output_type": "stream",
          "text": [
            "2/2 [==============================] - 0s 6ms/step - loss: 0.6685 - mae: 0.4936\n"
          ],
          "name": "stdout"
        },
        {
          "output_type": "execute_result",
          "data": {
            "text/plain": [
              "[0.6685089468955994, 0.4936060607433319]"
            ]
          },
          "metadata": {
            "tags": []
          },
          "execution_count": 18
        }
      ]
    },
    {
      "cell_type": "code",
      "metadata": {
        "colab": {
          "base_uri": "https://localhost:8080/"
        },
        "id": "EcPTsig6yNoM",
        "outputId": "1c08477d-f4fd-470b-bb30-66322789cf3d"
      },
      "source": [
        "result_1=network.predict(X_test)\n",
        "result_1[4]"
      ],
      "execution_count": 19,
      "outputs": [
        {
          "output_type": "execute_result",
          "data": {
            "text/plain": [
              "array([0.54408693], dtype=float32)"
            ]
          },
          "metadata": {
            "tags": []
          },
          "execution_count": 19
        }
      ]
    },
    {
      "cell_type": "code",
      "metadata": {
        "colab": {
          "base_uri": "https://localhost:8080/",
          "height": 295
        },
        "id": "StWOoooQyS8K",
        "outputId": "d9251c5f-a09e-44cd-dfe5-e1666fbfd225"
      },
      "source": [
        "import seaborn as sns\n",
        "y=result_1\n",
        "y1=range(62)\n",
        "x=y_test\n",
        "plt.scatter(x, y1, label= \"Actual price\", color= \"green\", marker= \"*\", s=100)\n",
        "plt.scatter(y, y1, label= \"Predicted Price\", color= \"yellow\", marker= \"^\", s=100)\n",
        "plt.xlabel('Price')\n",
        "plt.ylabel('Rows')\n",
        "plt.title('Actual price vs predicted price!')\n",
        "plt.legend()\n",
        "plt.grid()\n",
        "plt.show()"
      ],
      "execution_count": 20,
      "outputs": [
        {
          "output_type": "display_data",
          "data": {
            "image/png": "[encoded data removed]",
            "text/plain": [
              "<Figure size 432x288 with 1 Axes>"
            ]
          },
          "metadata": {
            "tags": [],
            "needs_background": "light"
          }
        }
      ]
    }
  ]
}